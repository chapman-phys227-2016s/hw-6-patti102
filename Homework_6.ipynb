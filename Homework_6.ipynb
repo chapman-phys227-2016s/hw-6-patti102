{
 "cells": [
  {
   "cell_type": "code",
   "execution_count": 3,
   "metadata": {
    "collapsed": false
   },
   "outputs": [],
   "source": [
    "import xy_ODE as p1\n",
    "import unstable_ODE as p2"
   ]
  },
  {
   "cell_type": "markdown",
   "metadata": {},
   "source": [
    "# Homework 6\n",
    "\n",
    "### Taylor Patti\n",
    "### 3/19/2016"
   ]
  },
  {
   "cell_type": "markdown",
   "metadata": {},
   "source": [
    "## xy_ODE\n",
    "\n",
    "This section solves a differential equation by the Euler's Forward method over the interval 0 to 4 and then plots the solutions for 5, 17, and 401 fixed points (blue, red, and green respectively) as well as the analytic solution (black). As is readily apparent, 5, and even 17 fixed points are nowhere near sufficient in order to produce the required accuracy. 401 points is a good approximation, but more points would still be required for exact correspondence. That's why this method isn't great, especially in the days before computers. Can you picture Euler going through the process of calculating 401 points? I can. Mathematicians are odd like that."
   ]
  },
  {
   "cell_type": "code",
   "execution_count": 4,
   "metadata": {
    "collapsed": false
   },
   "outputs": [
    {
     "data": {
      "image/png": "[encoded data removed]",
      "text/plain": [
       "<matplotlib.figure.Figure at 0x7f0669773510>"
      ]
     },
     "metadata": {},
     "output_type": "display_data"
    }
   ],
   "source": [
    "p1.graph()"
   ]
  },
  {
   "cell_type": "markdown",
   "metadata": {},
   "source": [
    "We can also use sympy to solve for the differential equation numerically, as demonstrated below. Note that the value C1 would depend on the value of epsilon given for the equation."
   ]
  },
  {
   "cell_type": "code",
   "execution_count": 5,
   "metadata": {
    "collapsed": false
   },
   "outputs": [
    {
     "name": "stdout",
     "output_type": "stream",
     "text": [
      "f(x) == sqrt(C1 + x) + 1\n"
     ]
    }
   ],
   "source": [
    "p1.symbolic_solver()"
   ]
  },
  {
   "cell_type": "markdown",
   "metadata": {},
   "source": [
    "## unstable_ODE\n",
    "\n",
    "The crux of this implementation is that for the differential equation y' = Cy, the separation yields a recursive relationship of multiplication by a constant value, the likes of which always renderes itself such that the value of y_k is always equal to (1 + Cdx)^k * y_0, as this implements this simple multiplication by a constant which the problem calls for.\n",
    "\n",
    "If the value of Cdx is such that it is less than -1 but greater than -2, the multiplied factor will be between 0 and -1, and will thus oscillate and decrease. This is simply a geometric series. Here, we have set C to -1, and thus Delta t values between 1 and 2 exclusive will produce such behavior. Delta t values greater than 2 will oscillate in sign, but as the absolute value of the argument they create is greater than 1, they will grow with each time steps, without bound."
   ]
  },
  {
   "cell_type": "code",
   "execution_count": 6,
   "metadata": {
    "collapsed": false
   },
   "outputs": [
    {
     "name": "stdout",
     "output_type": "stream",
     "text": [
      "\n",
      "Oscillation Demonstration First 4 Values\n",
      "\n",
      "   Delta t    Value 1    Value 2    Value 3    Value 4\n",
      "\n",
      "      1.22   1.000000  -0.222222   0.049383  -0.010974\n",
      "      1.57   1.000000  -0.571429   0.326531  -0.186589\n",
      "      1.83   1.000000  -0.833333   0.694444  -0.578704\n",
      "      2.75   1.000000  -1.750000   3.062500  -5.359375\n",
      "\n"
     ]
    }
   ],
   "source": [
    "p2.tabler()"
   ]
  },
  {
   "cell_type": "markdown",
   "metadata": {},
   "source": [
    "Notice how as the other values go decreasing in magnitude, the Delta t = 2.75 case is obviously in it to win it big.\n",
    "\n",
    "Similarly to the last example on xy_ODE, we can also solve this symbolically using sympy."
   ]
  },
  {
   "cell_type": "code",
   "execution_count": 7,
   "metadata": {
    "collapsed": false
   },
   "outputs": [
    {
     "name": "stdout",
     "output_type": "stream",
     "text": [
      "f(x) == C1*exp(-x)\n"
     ]
    }
   ],
   "source": [
    "p2.symbolic_solver()"
   ]
  }
 ],
 "metadata": {
  "kernelspec": {
   "display_name": "Python 2 (SageMath)",
   "language": "python",
   "name": "python2"
  },
  "language_info": {
   "codemirror_mode": {
    "name": "ipython",
    "version": 2
   },
   "file_extension": ".py",
   "mimetype": "text/x-python",
   "name": "python",
   "nbconvert_exporter": "python",
   "pygments_lexer": "ipython2",
   "version": "2.7.10"
  },
  "name": "Homework_6.ipynb"
 },
 "nbformat": 4,
 "nbformat_minor": 0
}
